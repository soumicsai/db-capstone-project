{
 "cells": [
  {
   "cell_type": "code",
   "execution_count": 2,
   "id": "fee1b55a-e1aa-4e20-a8a4-42906094dd24",
   "metadata": {},
   "outputs": [],
   "source": [
    "import mysql.connector as connector"
   ]
  },
  {
   "cell_type": "code",
   "execution_count": 10,
   "id": "f9ad1788-96bf-4fe1-a7a5-8e7ea17fccde",
   "metadata": {},
   "outputs": [],
   "source": [
    "connection = connector.connect(user = \"root\", password = \"soumic1997\", db = \"littlelemondb\")"
   ]
  },
  {
   "cell_type": "code",
   "execution_count": 38,
   "id": "fdbaa2b1-a740-4137-9466-4203f0eabc23",
   "metadata": {},
   "outputs": [
    {
     "name": "stdout",
     "output_type": "stream",
     "text": [
      "[('bookings',), ('customers',), ('menu',), ('menuitems',), ('orderdeliverystatus',), ('orders',), ('ordersview',), ('staff',)]\n"
     ]
    },
    {
     "data": {
      "text/plain": [
       "True"
      ]
     },
     "execution_count": 38,
     "metadata": {},
     "output_type": "execute_result"
    }
   ],
   "source": [
    "cursor = connection.cursor()\n",
    "show_tables_query = \"SHOW tables\" \n",
    "cursor.execute(show_tables_query)\n",
    "result = cursor.fetchall()\n",
    "print(result)\n",
    "cursor.close()"
   ]
  },
  {
   "cell_type": "code",
   "execution_count": 40,
   "id": "fdf8f140-593d-405c-83c4-82800e935858",
   "metadata": {},
   "outputs": [
    {
     "name": "stdout",
     "output_type": "stream",
     "text": [
      "CustomerID\n",
      "FullName\n",
      "Email\n",
      "PhoneNumber\n"
     ]
    },
    {
     "data": {
      "text/plain": [
       "True"
      ]
     },
     "execution_count": 40,
     "metadata": {},
     "output_type": "execute_result"
    }
   ],
   "source": [
    "cursor = connection.cursor()\n",
    "columns_query = \"SHOW COLUMNS FROM Customers\" \n",
    "cursor.execute(columns_query)\n",
    "result = cursor.fetchall()\n",
    "for r in result:\n",
    "    print(f\"{r[0]}\")\n",
    "cursor.close()\n"
   ]
  },
  {
   "cell_type": "code",
   "execution_count": 58,
   "id": "b331c1c0-cb05-4871-908b-1012a959ff39",
   "metadata": {},
   "outputs": [
    {
     "name": "stdout",
     "output_type": "stream",
     "text": [
      "Bob Smith | bob@example.com | 987-654-3210 | $90 \n",
      "Charlie Reed | charlie@example.com | 555-123-4567 | $120 \n",
      "Ethan Carter | ethan@example.com | 333-222-1111 | $150 \n",
      "Alice Johnson | alice@example.com | 123-456-7890 | $80 \n",
      "Bob Smith | bob@example.com | 987-654-3210 | $200 \n",
      "Diana Wells | diana@example.com | 444-987-6543 | $180 \n",
      "Ethan Carter | ethan@example.com | 333-222-1111 | $220 \n",
      "Charlie Reed | charlie@example.com | 555-123-4567 | $175 \n",
      "Alice Johnson | alice@example.com | 123-456-7890 | $300 \n"
     ]
    },
    {
     "data": {
      "text/plain": [
       "True"
      ]
     },
     "execution_count": 58,
     "metadata": {},
     "output_type": "execute_result"
    }
   ],
   "source": [
    "cursor = connection.cursor()\n",
    "show_tables_query = \"SELECT C.FUllName, C.Email, C.PhoneNumber, O.TotalCost from Customers C INNER JOIN Orders O ON C.CustomerID = O.CustomerID WHERE O.TotalCost > '60'\" \n",
    "cursor.execute(show_tables_query)\n",
    "result = cursor.fetchall()\n",
    "for r in result:\n",
    "    print(f\"{r[0]} | {r[1]} | {r[2]} | ${r[3]} \")\n",
    "cursor.close()"
   ]
  },
  {
   "cell_type": "code",
   "execution_count": null,
   "id": "78493bcd-c637-4146-bace-a71325b5203d",
   "metadata": {},
   "outputs": [],
   "source": []
  }
 ],
 "metadata": {
  "kernelspec": {
   "display_name": "Python 3 (ipykernel)",
   "language": "python",
   "name": "python3"
  },
  "language_info": {
   "codemirror_mode": {
    "name": "ipython",
    "version": 3
   },
   "file_extension": ".py",
   "mimetype": "text/x-python",
   "name": "python",
   "nbconvert_exporter": "python",
   "pygments_lexer": "ipython3",
   "version": "3.11.7"
  }
 },
 "nbformat": 4,
 "nbformat_minor": 5
}
